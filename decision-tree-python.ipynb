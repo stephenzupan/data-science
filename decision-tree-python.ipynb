{
 "cells": [
  {
   "cell_type": "code",
   "execution_count": null,
   "metadata": {},
   "outputs": [],
   "source": [
    "# import necessary packages\n",
    "import pandas as pd\n",
    "from sklearn.tree import DecisionTreeClassifier\n",
    "from sklearn.model_selection import train_test_split\n",
    "from sklearn import metrics\n",
    "from sklearn.metrics import classification_report\n",
    "import numpy as np\n",
    "\n",
    "# link to kaggle dataset\n",
    "# https://www.kaggle.com/ronitf/heart-disease-uci\n",
    "\n",
    "# read dataset into pandas dataframe\n",
    "df = pd.read_csv('../../Desktop/Data/heart.csv', header = 0)"
   ]
  },
  {
   "cell_type": "code",
   "execution_count": null,
   "metadata": {},
   "outputs": [],
   "source": [
    "# we will drop the 'cp' column, as it is a patient's gauging of their own pain\n",
    "df.drop(['cp'], axis = 1)\n",
    "\n",
    "# define feature columns to use in decision tree\n",
    "cols = ['age', 'sex', 'cp', 'trestbps', 'chol',\n",
    "        'fbs', 'restecg', 'thalach', 'exang',\n",
    "        'oldpeak', 'slope', 'ca', 'thal']\n",
    "\n",
    "X = df[cols]\n",
    "y = df['target']"
   ]
  },
  {
   "cell_type": "code",
   "execution_count": null,
   "metadata": {},
   "outputs": [],
   "source": [
    "# a little train test split action for the boys\n",
    "X_train, X_test, y_train, y_test = train_test_split(X, y, test_size=0.3, random_state=1) # 70% training and 30% test\n",
    "\n",
    "# create decision tree classifer object\n",
    "clf = DecisionTreeClassifier()\n",
    "\n",
    "# train the decision tree\n",
    "clf = clf.fit(X_train,y_train)\n",
    "\n",
    "# predict on test dataset\n",
    "y_pred = clf.predict(X_test)"
   ]
  },
  {
   "cell_type": "code",
   "execution_count": null,
   "metadata": {},
   "outputs": [],
   "source": [
    "# model accuracy, how often is the classifier correct?\n",
    "print(\"Accuracy: \",metrics.accuracy_score(y_test, y_pred))\n",
    "\n",
    "# additional metrics of model including precision and accuracy\n",
    "print(classification_report(y_test, y_pred))"
   ]
  }
 ],
 "metadata": {
  "kernelspec": {
   "display_name": "Python 3",
   "language": "python",
   "name": "python3"
  },
  "language_info": {
   "codemirror_mode": {
    "name": "ipython",
    "version": 3
   },
   "file_extension": ".py",
   "mimetype": "text/x-python",
   "name": "python",
   "nbconvert_exporter": "python",
   "pygments_lexer": "ipython3",
   "version": "3.7.1"
  }
 },
 "nbformat": 4,
 "nbformat_minor": 2
}
